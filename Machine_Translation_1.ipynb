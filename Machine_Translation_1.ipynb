{
  "nbformat": 4,
  "nbformat_minor": 0,
  "metadata": {
    "colab": {
      "name": "Machine Translation 1.ipynb",
      "provenance": [],
      "collapsed_sections": [],
      "authorship_tag": "ABX9TyPqlAiCseUWXCTbNzYnhrYA",
      "include_colab_link": true
    },
    "kernelspec": {
      "name": "python3",
      "display_name": "Python 3"
    },
    "language_info": {
      "name": "python"
    },
    "accelerator": "GPU"
  },
  "cells": [
    {
      "cell_type": "markdown",
      "metadata": {
        "id": "view-in-github",
        "colab_type": "text"
      },
      "source": [
        "<a href=\"https://colab.research.google.com/github/edwardcdy/deep-learning-notebooks/blob/main/Machine_Translation_1.ipynb\" target=\"_parent\"><img src=\"https://colab.research.google.com/assets/colab-badge.svg\" alt=\"Open In Colab\"/></a>"
      ]
    },
    {
      "cell_type": "code",
      "execution_count": null,
      "metadata": {
        "id": "oECc9ffIdYTB"
      },
      "outputs": [],
      "source": [
        "import torch\n",
        "from torch import nn, Tensor\n",
        "from torch.utils.data import dataset, DataLoader\n",
        "import torch.nn.functional as F\n",
        "from torch.optim.lr_scheduler import ExponentialLR\n",
        "\n",
        "from torchtext.datasets import WikiText2\n",
        "from torchtext.data.utils import get_tokenizer\n",
        "from torchtext.vocab import build_vocab_from_iterator\n",
        "from torchtext.data.functional import to_map_style_dataset\n",
        "\n",
        "import tqdm"
      ]
    },
    {
      "cell_type": "code",
      "source": [
        "!pip install -U spacy\n",
        "!python -m spacy download en_core_web_sm\n",
        "!python -m spacy download de_core_news_sm"
      ],
      "metadata": {
        "id": "kqYhk9Lu5wzi",
        "colab": {
          "base_uri": "https://localhost:8080/"
        },
        "outputId": "467faa40-b90e-4e4e-e466-8650294f9b56"
      },
      "execution_count": null,
      "outputs": [
        {
          "output_type": "stream",
          "name": "stdout",
          "text": [
            "Requirement already satisfied: spacy in /usr/local/lib/python3.7/dist-packages (2.2.4)\n",
            "Collecting spacy\n",
            "  Downloading spacy-3.2.1-cp37-cp37m-manylinux_2_17_x86_64.manylinux2014_x86_64.whl (6.0 MB)\n",
            "\u001b[K     |████████████████████████████████| 6.0 MB 8.4 MB/s \n",
            "\u001b[?25hRequirement already satisfied: typing-extensions<4.0.0.0,>=3.7.4 in /usr/local/lib/python3.7/dist-packages (from spacy) (3.10.0.2)\n",
            "Requirement already satisfied: tqdm<5.0.0,>=4.38.0 in /usr/local/lib/python3.7/dist-packages (from spacy) (4.62.3)\n",
            "Collecting spacy-loggers<2.0.0,>=1.0.0\n",
            "  Downloading spacy_loggers-1.0.1-py3-none-any.whl (7.0 kB)\n",
            "Requirement already satisfied: numpy>=1.15.0 in /usr/local/lib/python3.7/dist-packages (from spacy) (1.19.5)\n",
            "Requirement already satisfied: setuptools in /usr/local/lib/python3.7/dist-packages (from spacy) (57.4.0)\n",
            "Collecting srsly<3.0.0,>=2.4.1\n",
            "  Downloading srsly-2.4.2-cp37-cp37m-manylinux_2_17_x86_64.manylinux2014_x86_64.whl (451 kB)\n",
            "\u001b[K     |████████████████████████████████| 451 kB 38.9 MB/s \n",
            "\u001b[?25hCollecting catalogue<2.1.0,>=2.0.6\n",
            "  Downloading catalogue-2.0.6-py3-none-any.whl (17 kB)\n",
            "Requirement already satisfied: blis<0.8.0,>=0.4.0 in /usr/local/lib/python3.7/dist-packages (from spacy) (0.4.1)\n",
            "Requirement already satisfied: requests<3.0.0,>=2.13.0 in /usr/local/lib/python3.7/dist-packages (from spacy) (2.23.0)\n",
            "Collecting thinc<8.1.0,>=8.0.12\n",
            "  Downloading thinc-8.0.13-cp37-cp37m-manylinux_2_17_x86_64.manylinux2014_x86_64.whl (628 kB)\n",
            "\u001b[K     |████████████████████████████████| 628 kB 49.1 MB/s \n",
            "\u001b[?25hRequirement already satisfied: wasabi<1.1.0,>=0.8.1 in /usr/local/lib/python3.7/dist-packages (from spacy) (0.9.0)\n",
            "Requirement already satisfied: murmurhash<1.1.0,>=0.28.0 in /usr/local/lib/python3.7/dist-packages (from spacy) (1.0.6)\n",
            "Collecting spacy-legacy<3.1.0,>=3.0.8\n",
            "  Downloading spacy_legacy-3.0.8-py2.py3-none-any.whl (14 kB)\n",
            "Collecting langcodes<4.0.0,>=3.2.0\n",
            "  Downloading langcodes-3.3.0-py3-none-any.whl (181 kB)\n",
            "\u001b[K     |████████████████████████████████| 181 kB 50.1 MB/s \n",
            "\u001b[?25hRequirement already satisfied: jinja2 in /usr/local/lib/python3.7/dist-packages (from spacy) (2.11.3)\n",
            "Collecting pathy>=0.3.5\n",
            "  Downloading pathy-0.6.1-py3-none-any.whl (42 kB)\n",
            "\u001b[K     |████████████████████████████████| 42 kB 1.4 MB/s \n",
            "\u001b[?25hRequirement already satisfied: preshed<3.1.0,>=3.0.2 in /usr/local/lib/python3.7/dist-packages (from spacy) (3.0.6)\n",
            "Requirement already satisfied: cymem<2.1.0,>=2.0.2 in /usr/local/lib/python3.7/dist-packages (from spacy) (2.0.6)\n",
            "Requirement already satisfied: packaging>=20.0 in /usr/local/lib/python3.7/dist-packages (from spacy) (21.3)\n",
            "Collecting pydantic!=1.8,!=1.8.1,<1.9.0,>=1.7.4\n",
            "  Downloading pydantic-1.8.2-cp37-cp37m-manylinux2014_x86_64.whl (10.1 MB)\n",
            "\u001b[K     |████████████████████████████████| 10.1 MB 48.4 MB/s \n",
            "\u001b[?25hCollecting typer<0.5.0,>=0.3.0\n",
            "  Downloading typer-0.4.0-py3-none-any.whl (27 kB)\n",
            "Requirement already satisfied: zipp>=0.5 in /usr/local/lib/python3.7/dist-packages (from catalogue<2.1.0,>=2.0.6->spacy) (3.7.0)\n",
            "Requirement already satisfied: pyparsing!=3.0.5,>=2.0.2 in /usr/local/lib/python3.7/dist-packages (from packaging>=20.0->spacy) (3.0.7)\n",
            "Requirement already satisfied: smart-open<6.0.0,>=5.0.0 in /usr/local/lib/python3.7/dist-packages (from pathy>=0.3.5->spacy) (5.2.1)\n",
            "Requirement already satisfied: idna<3,>=2.5 in /usr/local/lib/python3.7/dist-packages (from requests<3.0.0,>=2.13.0->spacy) (2.10)\n",
            "Requirement already satisfied: certifi>=2017.4.17 in /usr/local/lib/python3.7/dist-packages (from requests<3.0.0,>=2.13.0->spacy) (2021.10.8)\n",
            "Requirement already satisfied: chardet<4,>=3.0.2 in /usr/local/lib/python3.7/dist-packages (from requests<3.0.0,>=2.13.0->spacy) (3.0.4)\n",
            "Requirement already satisfied: urllib3!=1.25.0,!=1.25.1,<1.26,>=1.21.1 in /usr/local/lib/python3.7/dist-packages (from requests<3.0.0,>=2.13.0->spacy) (1.24.3)\n",
            "Requirement already satisfied: click<9.0.0,>=7.1.1 in /usr/local/lib/python3.7/dist-packages (from typer<0.5.0,>=0.3.0->spacy) (7.1.2)\n",
            "Requirement already satisfied: MarkupSafe>=0.23 in /usr/local/lib/python3.7/dist-packages (from jinja2->spacy) (2.0.1)\n",
            "Installing collected packages: catalogue, typer, srsly, pydantic, thinc, spacy-loggers, spacy-legacy, pathy, langcodes, spacy\n",
            "  Attempting uninstall: catalogue\n",
            "    Found existing installation: catalogue 1.0.0\n",
            "    Uninstalling catalogue-1.0.0:\n",
            "      Successfully uninstalled catalogue-1.0.0\n",
            "  Attempting uninstall: srsly\n",
            "    Found existing installation: srsly 1.0.5\n",
            "    Uninstalling srsly-1.0.5:\n",
            "      Successfully uninstalled srsly-1.0.5\n",
            "  Attempting uninstall: thinc\n",
            "    Found existing installation: thinc 7.4.0\n",
            "    Uninstalling thinc-7.4.0:\n",
            "      Successfully uninstalled thinc-7.4.0\n",
            "  Attempting uninstall: spacy\n",
            "    Found existing installation: spacy 2.2.4\n",
            "    Uninstalling spacy-2.2.4:\n",
            "      Successfully uninstalled spacy-2.2.4\n",
            "Successfully installed catalogue-2.0.6 langcodes-3.3.0 pathy-0.6.1 pydantic-1.8.2 spacy-3.2.1 spacy-legacy-3.0.8 spacy-loggers-1.0.1 srsly-2.4.2 thinc-8.0.13 typer-0.4.0\n",
            "Collecting en-core-web-sm==3.2.0\n",
            "  Downloading https://github.com/explosion/spacy-models/releases/download/en_core_web_sm-3.2.0/en_core_web_sm-3.2.0-py3-none-any.whl (13.9 MB)\n",
            "\u001b[K     |████████████████████████████████| 13.9 MB 10.3 MB/s \n",
            "\u001b[?25hRequirement already satisfied: spacy<3.3.0,>=3.2.0 in /usr/local/lib/python3.7/dist-packages (from en-core-web-sm==3.2.0) (3.2.1)\n",
            "Requirement already satisfied: pydantic!=1.8,!=1.8.1,<1.9.0,>=1.7.4 in /usr/local/lib/python3.7/dist-packages (from spacy<3.3.0,>=3.2.0->en-core-web-sm==3.2.0) (1.8.2)\n",
            "Requirement already satisfied: blis<0.8.0,>=0.4.0 in /usr/local/lib/python3.7/dist-packages (from spacy<3.3.0,>=3.2.0->en-core-web-sm==3.2.0) (0.4.1)\n",
            "Requirement already satisfied: packaging>=20.0 in /usr/local/lib/python3.7/dist-packages (from spacy<3.3.0,>=3.2.0->en-core-web-sm==3.2.0) (21.3)\n",
            "Requirement already satisfied: langcodes<4.0.0,>=3.2.0 in /usr/local/lib/python3.7/dist-packages (from spacy<3.3.0,>=3.2.0->en-core-web-sm==3.2.0) (3.3.0)\n",
            "Requirement already satisfied: spacy-loggers<2.0.0,>=1.0.0 in /usr/local/lib/python3.7/dist-packages (from spacy<3.3.0,>=3.2.0->en-core-web-sm==3.2.0) (1.0.1)\n",
            "Requirement already satisfied: jinja2 in /usr/local/lib/python3.7/dist-packages (from spacy<3.3.0,>=3.2.0->en-core-web-sm==3.2.0) (2.11.3)\n",
            "Requirement already satisfied: pathy>=0.3.5 in /usr/local/lib/python3.7/dist-packages (from spacy<3.3.0,>=3.2.0->en-core-web-sm==3.2.0) (0.6.1)\n",
            "Requirement already satisfied: tqdm<5.0.0,>=4.38.0 in /usr/local/lib/python3.7/dist-packages (from spacy<3.3.0,>=3.2.0->en-core-web-sm==3.2.0) (4.62.3)\n",
            "Requirement already satisfied: typer<0.5.0,>=0.3.0 in /usr/local/lib/python3.7/dist-packages (from spacy<3.3.0,>=3.2.0->en-core-web-sm==3.2.0) (0.4.0)\n",
            "Requirement already satisfied: numpy>=1.15.0 in /usr/local/lib/python3.7/dist-packages (from spacy<3.3.0,>=3.2.0->en-core-web-sm==3.2.0) (1.19.5)\n",
            "Requirement already satisfied: catalogue<2.1.0,>=2.0.6 in /usr/local/lib/python3.7/dist-packages (from spacy<3.3.0,>=3.2.0->en-core-web-sm==3.2.0) (2.0.6)\n",
            "Requirement already satisfied: requests<3.0.0,>=2.13.0 in /usr/local/lib/python3.7/dist-packages (from spacy<3.3.0,>=3.2.0->en-core-web-sm==3.2.0) (2.23.0)\n",
            "Requirement already satisfied: spacy-legacy<3.1.0,>=3.0.8 in /usr/local/lib/python3.7/dist-packages (from spacy<3.3.0,>=3.2.0->en-core-web-sm==3.2.0) (3.0.8)\n",
            "Requirement already satisfied: cymem<2.1.0,>=2.0.2 in /usr/local/lib/python3.7/dist-packages (from spacy<3.3.0,>=3.2.0->en-core-web-sm==3.2.0) (2.0.6)\n",
            "Requirement already satisfied: wasabi<1.1.0,>=0.8.1 in /usr/local/lib/python3.7/dist-packages (from spacy<3.3.0,>=3.2.0->en-core-web-sm==3.2.0) (0.9.0)\n",
            "Requirement already satisfied: typing-extensions<4.0.0.0,>=3.7.4 in /usr/local/lib/python3.7/dist-packages (from spacy<3.3.0,>=3.2.0->en-core-web-sm==3.2.0) (3.10.0.2)\n",
            "Requirement already satisfied: thinc<8.1.0,>=8.0.12 in /usr/local/lib/python3.7/dist-packages (from spacy<3.3.0,>=3.2.0->en-core-web-sm==3.2.0) (8.0.13)\n",
            "Requirement already satisfied: setuptools in /usr/local/lib/python3.7/dist-packages (from spacy<3.3.0,>=3.2.0->en-core-web-sm==3.2.0) (57.4.0)\n",
            "Requirement already satisfied: srsly<3.0.0,>=2.4.1 in /usr/local/lib/python3.7/dist-packages (from spacy<3.3.0,>=3.2.0->en-core-web-sm==3.2.0) (2.4.2)\n",
            "Requirement already satisfied: preshed<3.1.0,>=3.0.2 in /usr/local/lib/python3.7/dist-packages (from spacy<3.3.0,>=3.2.0->en-core-web-sm==3.2.0) (3.0.6)\n",
            "Requirement already satisfied: murmurhash<1.1.0,>=0.28.0 in /usr/local/lib/python3.7/dist-packages (from spacy<3.3.0,>=3.2.0->en-core-web-sm==3.2.0) (1.0.6)\n",
            "Requirement already satisfied: zipp>=0.5 in /usr/local/lib/python3.7/dist-packages (from catalogue<2.1.0,>=2.0.6->spacy<3.3.0,>=3.2.0->en-core-web-sm==3.2.0) (3.7.0)\n",
            "Requirement already satisfied: pyparsing!=3.0.5,>=2.0.2 in /usr/local/lib/python3.7/dist-packages (from packaging>=20.0->spacy<3.3.0,>=3.2.0->en-core-web-sm==3.2.0) (3.0.7)\n",
            "Requirement already satisfied: smart-open<6.0.0,>=5.0.0 in /usr/local/lib/python3.7/dist-packages (from pathy>=0.3.5->spacy<3.3.0,>=3.2.0->en-core-web-sm==3.2.0) (5.2.1)\n",
            "Requirement already satisfied: idna<3,>=2.5 in /usr/local/lib/python3.7/dist-packages (from requests<3.0.0,>=2.13.0->spacy<3.3.0,>=3.2.0->en-core-web-sm==3.2.0) (2.10)\n",
            "Requirement already satisfied: certifi>=2017.4.17 in /usr/local/lib/python3.7/dist-packages (from requests<3.0.0,>=2.13.0->spacy<3.3.0,>=3.2.0->en-core-web-sm==3.2.0) (2021.10.8)\n",
            "Requirement already satisfied: chardet<4,>=3.0.2 in /usr/local/lib/python3.7/dist-packages (from requests<3.0.0,>=2.13.0->spacy<3.3.0,>=3.2.0->en-core-web-sm==3.2.0) (3.0.4)\n",
            "Requirement already satisfied: urllib3!=1.25.0,!=1.25.1,<1.26,>=1.21.1 in /usr/local/lib/python3.7/dist-packages (from requests<3.0.0,>=2.13.0->spacy<3.3.0,>=3.2.0->en-core-web-sm==3.2.0) (1.24.3)\n",
            "Requirement already satisfied: click<9.0.0,>=7.1.1 in /usr/local/lib/python3.7/dist-packages (from typer<0.5.0,>=0.3.0->spacy<3.3.0,>=3.2.0->en-core-web-sm==3.2.0) (7.1.2)\n",
            "Requirement already satisfied: MarkupSafe>=0.23 in /usr/local/lib/python3.7/dist-packages (from jinja2->spacy<3.3.0,>=3.2.0->en-core-web-sm==3.2.0) (2.0.1)\n",
            "Installing collected packages: en-core-web-sm\n",
            "  Attempting uninstall: en-core-web-sm\n",
            "    Found existing installation: en-core-web-sm 2.2.5\n",
            "    Uninstalling en-core-web-sm-2.2.5:\n",
            "      Successfully uninstalled en-core-web-sm-2.2.5\n",
            "Successfully installed en-core-web-sm-3.2.0\n",
            "\u001b[38;5;2m✔ Download and installation successful\u001b[0m\n",
            "You can now load the package via spacy.load('en_core_web_sm')\n",
            "Collecting de-core-news-sm==3.2.0\n",
            "  Downloading https://github.com/explosion/spacy-models/releases/download/de_core_news_sm-3.2.0/de_core_news_sm-3.2.0-py3-none-any.whl (19.1 MB)\n",
            "\u001b[K     |████████████████████████████████| 19.1 MB 62.4 MB/s \n",
            "\u001b[?25hRequirement already satisfied: spacy<3.3.0,>=3.2.0 in /usr/local/lib/python3.7/dist-packages (from de-core-news-sm==3.2.0) (3.2.1)\n",
            "Requirement already satisfied: thinc<8.1.0,>=8.0.12 in /usr/local/lib/python3.7/dist-packages (from spacy<3.3.0,>=3.2.0->de-core-news-sm==3.2.0) (8.0.13)\n",
            "Requirement already satisfied: catalogue<2.1.0,>=2.0.6 in /usr/local/lib/python3.7/dist-packages (from spacy<3.3.0,>=3.2.0->de-core-news-sm==3.2.0) (2.0.6)\n",
            "Requirement already satisfied: spacy-legacy<3.1.0,>=3.0.8 in /usr/local/lib/python3.7/dist-packages (from spacy<3.3.0,>=3.2.0->de-core-news-sm==3.2.0) (3.0.8)\n",
            "Requirement already satisfied: preshed<3.1.0,>=3.0.2 in /usr/local/lib/python3.7/dist-packages (from spacy<3.3.0,>=3.2.0->de-core-news-sm==3.2.0) (3.0.6)\n",
            "Requirement already satisfied: langcodes<4.0.0,>=3.2.0 in /usr/local/lib/python3.7/dist-packages (from spacy<3.3.0,>=3.2.0->de-core-news-sm==3.2.0) (3.3.0)\n",
            "Requirement already satisfied: setuptools in /usr/local/lib/python3.7/dist-packages (from spacy<3.3.0,>=3.2.0->de-core-news-sm==3.2.0) (57.4.0)\n",
            "Requirement already satisfied: packaging>=20.0 in /usr/local/lib/python3.7/dist-packages (from spacy<3.3.0,>=3.2.0->de-core-news-sm==3.2.0) (21.3)\n",
            "Requirement already satisfied: jinja2 in /usr/local/lib/python3.7/dist-packages (from spacy<3.3.0,>=3.2.0->de-core-news-sm==3.2.0) (2.11.3)\n",
            "Requirement already satisfied: blis<0.8.0,>=0.4.0 in /usr/local/lib/python3.7/dist-packages (from spacy<3.3.0,>=3.2.0->de-core-news-sm==3.2.0) (0.4.1)\n",
            "Requirement already satisfied: spacy-loggers<2.0.0,>=1.0.0 in /usr/local/lib/python3.7/dist-packages (from spacy<3.3.0,>=3.2.0->de-core-news-sm==3.2.0) (1.0.1)\n",
            "Requirement already satisfied: srsly<3.0.0,>=2.4.1 in /usr/local/lib/python3.7/dist-packages (from spacy<3.3.0,>=3.2.0->de-core-news-sm==3.2.0) (2.4.2)\n",
            "Requirement already satisfied: cymem<2.1.0,>=2.0.2 in /usr/local/lib/python3.7/dist-packages (from spacy<3.3.0,>=3.2.0->de-core-news-sm==3.2.0) (2.0.6)\n",
            "Requirement already satisfied: wasabi<1.1.0,>=0.8.1 in /usr/local/lib/python3.7/dist-packages (from spacy<3.3.0,>=3.2.0->de-core-news-sm==3.2.0) (0.9.0)\n",
            "Requirement already satisfied: typing-extensions<4.0.0.0,>=3.7.4 in /usr/local/lib/python3.7/dist-packages (from spacy<3.3.0,>=3.2.0->de-core-news-sm==3.2.0) (3.10.0.2)\n",
            "Requirement already satisfied: numpy>=1.15.0 in /usr/local/lib/python3.7/dist-packages (from spacy<3.3.0,>=3.2.0->de-core-news-sm==3.2.0) (1.19.5)\n",
            "Requirement already satisfied: tqdm<5.0.0,>=4.38.0 in /usr/local/lib/python3.7/dist-packages (from spacy<3.3.0,>=3.2.0->de-core-news-sm==3.2.0) (4.62.3)\n",
            "Requirement already satisfied: typer<0.5.0,>=0.3.0 in /usr/local/lib/python3.7/dist-packages (from spacy<3.3.0,>=3.2.0->de-core-news-sm==3.2.0) (0.4.0)\n",
            "Requirement already satisfied: requests<3.0.0,>=2.13.0 in /usr/local/lib/python3.7/dist-packages (from spacy<3.3.0,>=3.2.0->de-core-news-sm==3.2.0) (2.23.0)\n",
            "Requirement already satisfied: pydantic!=1.8,!=1.8.1,<1.9.0,>=1.7.4 in /usr/local/lib/python3.7/dist-packages (from spacy<3.3.0,>=3.2.0->de-core-news-sm==3.2.0) (1.8.2)\n",
            "Requirement already satisfied: murmurhash<1.1.0,>=0.28.0 in /usr/local/lib/python3.7/dist-packages (from spacy<3.3.0,>=3.2.0->de-core-news-sm==3.2.0) (1.0.6)\n",
            "Requirement already satisfied: pathy>=0.3.5 in /usr/local/lib/python3.7/dist-packages (from spacy<3.3.0,>=3.2.0->de-core-news-sm==3.2.0) (0.6.1)\n",
            "Requirement already satisfied: zipp>=0.5 in /usr/local/lib/python3.7/dist-packages (from catalogue<2.1.0,>=2.0.6->spacy<3.3.0,>=3.2.0->de-core-news-sm==3.2.0) (3.7.0)\n",
            "Requirement already satisfied: pyparsing!=3.0.5,>=2.0.2 in /usr/local/lib/python3.7/dist-packages (from packaging>=20.0->spacy<3.3.0,>=3.2.0->de-core-news-sm==3.2.0) (3.0.7)\n",
            "Requirement already satisfied: smart-open<6.0.0,>=5.0.0 in /usr/local/lib/python3.7/dist-packages (from pathy>=0.3.5->spacy<3.3.0,>=3.2.0->de-core-news-sm==3.2.0) (5.2.1)\n",
            "Requirement already satisfied: urllib3!=1.25.0,!=1.25.1,<1.26,>=1.21.1 in /usr/local/lib/python3.7/dist-packages (from requests<3.0.0,>=2.13.0->spacy<3.3.0,>=3.2.0->de-core-news-sm==3.2.0) (1.24.3)\n",
            "Requirement already satisfied: certifi>=2017.4.17 in /usr/local/lib/python3.7/dist-packages (from requests<3.0.0,>=2.13.0->spacy<3.3.0,>=3.2.0->de-core-news-sm==3.2.0) (2021.10.8)\n",
            "Requirement already satisfied: idna<3,>=2.5 in /usr/local/lib/python3.7/dist-packages (from requests<3.0.0,>=2.13.0->spacy<3.3.0,>=3.2.0->de-core-news-sm==3.2.0) (2.10)\n",
            "Requirement already satisfied: chardet<4,>=3.0.2 in /usr/local/lib/python3.7/dist-packages (from requests<3.0.0,>=2.13.0->spacy<3.3.0,>=3.2.0->de-core-news-sm==3.2.0) (3.0.4)\n",
            "Requirement already satisfied: click<9.0.0,>=7.1.1 in /usr/local/lib/python3.7/dist-packages (from typer<0.5.0,>=0.3.0->spacy<3.3.0,>=3.2.0->de-core-news-sm==3.2.0) (7.1.2)\n",
            "Requirement already satisfied: MarkupSafe>=0.23 in /usr/local/lib/python3.7/dist-packages (from jinja2->spacy<3.3.0,>=3.2.0->de-core-news-sm==3.2.0) (2.0.1)\n",
            "Installing collected packages: de-core-news-sm\n",
            "Successfully installed de-core-news-sm-3.2.0\n",
            "\u001b[38;5;2m✔ Download and installation successful\u001b[0m\n",
            "You can now load the package via spacy.load('de_core_news_sm')\n"
          ]
        }
      ]
    },
    {
      "cell_type": "code",
      "source": [
        "from torchtext.data.utils import get_tokenizer\n",
        "from torchtext.vocab import build_vocab_from_iterator\n",
        "from torchtext.datasets import Multi30k\n",
        "from typing import Iterable, List\n",
        "\n",
        "\n",
        "SRC_LANGUAGE = 'de'\n",
        "TGT_LANGUAGE = 'en'\n",
        "\n",
        "# Place-holders\n",
        "token_transform = {}\n",
        "vocab_transform = {}\n",
        "\n",
        "\n",
        "# Create source and target language tokenizer. Make sure to install the dependencies.\n",
        "token_transform[SRC_LANGUAGE] = get_tokenizer('spacy', language='de_core_news_sm')\n",
        "token_transform[TGT_LANGUAGE] = get_tokenizer('spacy', language='en_core_web_sm')\n",
        "\n",
        "\n",
        "# helper function to yield list of tokens\n",
        "def yield_tokens(data_iter: Iterable, language: str) -> List[str]:\n",
        "    language_index = {SRC_LANGUAGE: 0, TGT_LANGUAGE: 1}\n",
        "\n",
        "    for data_sample in data_iter:\n",
        "        yield token_transform[language](data_sample[language_index[language]])\n",
        "\n",
        "# Define special symbols and indices\n",
        "UNK_IDX, PAD_IDX, BOS_IDX, EOS_IDX = 0, 1, 2, 3\n",
        "# Make sure the tokens are in order of their indices to properly insert them in vocab\n",
        "special_symbols = ['<unk>', '<pad>', '<bos>', '<eos>']\n",
        "\n",
        "for ln in [SRC_LANGUAGE, TGT_LANGUAGE]:\n",
        "    # Training data Iterator\n",
        "    train_iter = Multi30k(split='train', language_pair=(SRC_LANGUAGE, TGT_LANGUAGE))\n",
        "    # Create torchtext's Vocab object\n",
        "    vocab_transform[ln] = build_vocab_from_iterator(yield_tokens(train_iter, ln),\n",
        "                                                    min_freq=1,\n",
        "                                                    specials=special_symbols,\n",
        "                                                    special_first=True)\n",
        "\n",
        "# Set UNK_IDX as the default index. This index is returned when the token is not found.\n",
        "# If not set, it throws RuntimeError when the queried token is not found in the Vocabulary.\n",
        "for ln in [SRC_LANGUAGE, TGT_LANGUAGE]:\n",
        "  vocab_transform[ln].set_default_index(UNK_IDX)"
      ],
      "metadata": {
        "id": "nJTCs2K5lTd_"
      },
      "execution_count": null,
      "outputs": []
    },
    {
      "cell_type": "code",
      "source": [
        "from torch.nn.utils.rnn import pad_sequence\n",
        "\n",
        "# helper function to club together sequential operations\n",
        "def sequential_transforms(*transforms):\n",
        "    def func(txt_input):\n",
        "        for transform in transforms:\n",
        "            txt_input = transform(txt_input)\n",
        "        return txt_input\n",
        "    return func\n",
        "\n",
        "# function to add BOS/EOS and create tensor for input sequence indices\n",
        "def tensor_transform(token_ids: List[int]):\n",
        "    return torch.cat((torch.tensor([BOS_IDX]),\n",
        "                      torch.tensor(token_ids),\n",
        "                      torch.tensor([EOS_IDX])))\n",
        "\n",
        "# src and tgt language text transforms to convert raw strings into tensors indices\n",
        "text_transform = {}\n",
        "for ln in [SRC_LANGUAGE, TGT_LANGUAGE]:\n",
        "    text_transform[ln] = sequential_transforms(token_transform[ln], #Tokenization\n",
        "                                               vocab_transform[ln], #Numericalization\n",
        "                                               tensor_transform) # Add BOS/EOS and create tensor\n",
        "\n",
        "\n",
        "# function to collate data samples into batch tesors\n",
        "def collate_fn(batch):\n",
        "    src_batch, tgt_batch = [], []\n",
        "    for src_sample, tgt_sample in batch:\n",
        "        src_batch.append(text_transform[SRC_LANGUAGE](src_sample.rstrip(\"\\n\")))\n",
        "        tgt_batch.append(text_transform[TGT_LANGUAGE](tgt_sample.rstrip(\"\\n\")))\n",
        "\n",
        "    src_batch = pad_sequence(src_batch, padding_value=PAD_IDX)\n",
        "    tgt_batch = pad_sequence(tgt_batch, padding_value=PAD_IDX)\n",
        "    return src_batch, tgt_batch"
      ],
      "metadata": {
        "id": "gGAEQapwl1VM"
      },
      "execution_count": null,
      "outputs": []
    },
    {
      "cell_type": "code",
      "source": [
        "BATCH_SIZE = 32\n",
        "\n",
        "train_iter = Multi30k(split='train', language_pair=(SRC_LANGUAGE, TGT_LANGUAGE))\n",
        "train_data = to_map_style_dataset(train_iter)\n",
        "train_dataloader = DataLoader(train_data, batch_size=BATCH_SIZE, collate_fn=collate_fn)"
      ],
      "metadata": {
        "id": "8V1UNQDy7Ijv"
      },
      "execution_count": null,
      "outputs": []
    },
    {
      "cell_type": "code",
      "source": [
        "device = 'cuda' if torch.cuda.is_available() else 'cpu'\n",
        "\n",
        "def scale_transpose_seqs(x: torch.Tensor, y: torch.Tensor, max_length: int = 30):\n",
        "  if x.shape[0] < max_length:\n",
        "    add = torch.full((max_length - x.shape[0], x.shape[1]), PAD_IDX)\n",
        "    x = torch.cat((x, add), dim=0)\n",
        "  elif x.shape[0] > max_length:\n",
        "    x = x[:max_length, :]\n",
        "\n",
        "  if y.shape[0] < max_length:\n",
        "    add = torch.full((max_length - y.shape[0], y.shape[1]), PAD_IDX)\n",
        "    y = torch.cat((y, add), dim=0)\n",
        "  elif y.shape[0] > max_length:\n",
        "    y = y[:max_length, :]\n",
        "\n",
        "  return x.to(device).long().T, y.to(device).long().T"
      ],
      "metadata": {
        "id": "RFzyo-xVIcSd"
      },
      "execution_count": null,
      "outputs": []
    },
    {
      "cell_type": "code",
      "source": [
        "\n",
        "BATCH_SIZE = 1\n",
        "\n",
        "valid_iter = Multi30k(split='valid', language_pair=(SRC_LANGUAGE, TGT_LANGUAGE))\n",
        "valid_dataloader = DataLoader(to_map_style_dataset(valid_iter), batch_size=BATCH_SIZE, shuffle=True, collate_fn=collate_fn)\n",
        "\n",
        "\n",
        "def example_translations(net: nn.Module, n_samples: int): \n",
        "  net.eval()\n",
        "\n",
        "  english = vocab_transform[TGT_LANGUAGE].get_itos()\n",
        "  german = vocab_transform[SRC_LANGUAGE].get_itos()\n",
        "\n",
        "  count = 0\n",
        "  for x,y in valid_dataloader:\n",
        "    print(f'Source sentence: {\" \".join(map(lambda a: german[a], x))}')\n",
        "    print(f'Ground truth: {\" \".join(map(lambda a: english[a], y))}')\n",
        "    x, _ = scale_transpose_seqs(x,y, 20)\n",
        "    out = net(x)\n",
        "\n",
        "    print(f'Translated sentence: {\" \".join(map(lambda a: english[a.argmax()], out.squeeze()))}')\n",
        "    print(\"\\n\")\n",
        "    count += 1\n",
        "    if count == n_samples:\n",
        "      break\n"
      ],
      "metadata": {
        "id": "ENdBedjrFutr"
      },
      "execution_count": null,
      "outputs": []
    },
    {
      "cell_type": "markdown",
      "source": [
        "# Simple feedforward model"
      ],
      "metadata": {
        "id": "Bu_Lq4XdJCnp"
      }
    },
    {
      "cell_type": "code",
      "source": [
        "class FF(nn.Module):\n",
        "  \n",
        "  def __init__(self, input_vocab_size: int, target_vocab_size: int, max_seq_len: int = 30):\n",
        "    super().__init__()\n",
        "    self.lookup = nn.Embedding(input_vocab_size, 10)\n",
        "    self.fc1 = nn.Linear(max_seq_len * 10, max_seq_len * 20)\n",
        "    self.fc2 = nn.Linear(max_seq_len * 20, max_seq_len * 20)\n",
        "    self.fc3 = nn.Linear(max_seq_len * 20, max_seq_len * target_vocab_size)\n",
        "\n",
        "  def forward(self, x):\n",
        "    batch_size, max_seq_len = x.shape\n",
        "    embedded = self.lookup(x)\n",
        "    x = embedded.reshape(batch_size, max_seq_len * 10)\n",
        "    x = F.relu(self.fc1(x))\n",
        "    x = F.relu(self.fc2(x))\n",
        "    x = self.fc3(x).reshape((batch_size, max_seq_len, -1))\n",
        "    return F.log_softmax(x, dim=2)\n"
      ],
      "metadata": {
        "id": "Hu0klv387OBA"
      },
      "execution_count": null,
      "outputs": []
    },
    {
      "cell_type": "code",
      "source": [
        "def train(net: nn.Module, epochs: int = 20):\n",
        "  net.train()\n",
        "  opt = torch.optim.Adam(net.parameters(), lr=3e-4)\n",
        "  loss = torch.nn.NLLLoss()\n",
        "\n",
        "  ret = []\n",
        "\n",
        "  for e in tqdm.tqdm(range(epochs)):\n",
        "    t = 0\n",
        "\n",
        "\n",
        "    for x,y in train_dataloader:\n",
        "      net.zero_grad()\n",
        "\n",
        "      x, y = scale_transpose_seqs(x, y)\n",
        "\n",
        "      out = net(x)\n",
        "\n",
        "      l = loss(out.swapaxes(1,2), y)\n",
        "\n",
        "      l.backward()\n",
        "      opt.step()\n",
        "\n",
        "      t += l.item()\n",
        "\n",
        "    ret.append(t)\n",
        "\n",
        "    if e % 5 == 0:\n",
        "      print(f\"Epoch {e}: loss {t}\")\n",
        "\n",
        "  return ret\n"
      ],
      "metadata": {
        "id": "Bs93Mxq0CNJQ"
      },
      "execution_count": null,
      "outputs": []
    },
    {
      "cell_type": "code",
      "source": [
        "in_vocab = len(vocab_transform[SRC_LANGUAGE])\n",
        "out_vocab = len(vocab_transform[TGT_LANGUAGE])\n",
        "\n",
        "net = FF(in_vocab, out_vocab).to(device)\n",
        "\n",
        "errors = train(net, 50)"
      ],
      "metadata": {
        "colab": {
          "base_uri": "https://localhost:8080/"
        },
        "id": "y6sVGB3V2rif",
        "outputId": "33df9ffd-31b0-4aa8-c366-792eb80b61f5"
      },
      "execution_count": null,
      "outputs": [
        {
          "output_type": "stream",
          "name": "stderr",
          "text": [
            "  2%|▏         | 1/50 [00:50<41:14, 50.51s/it]"
          ]
        },
        {
          "output_type": "stream",
          "name": "stdout",
          "text": [
            "Epoch 0: loss 2404.579223513603\n"
          ]
        },
        {
          "output_type": "stream",
          "name": "stderr",
          "text": [
            " 12%|█▏        | 6/50 [05:01<36:51, 50.25s/it]"
          ]
        },
        {
          "output_type": "stream",
          "name": "stdout",
          "text": [
            "Epoch 5: loss 1262.70050573349\n"
          ]
        },
        {
          "output_type": "stream",
          "name": "stderr",
          "text": [
            " 22%|██▏       | 11/50 [09:13<32:40, 50.28s/it]"
          ]
        },
        {
          "output_type": "stream",
          "name": "stdout",
          "text": [
            "Epoch 10: loss 830.6038464307785\n"
          ]
        },
        {
          "output_type": "stream",
          "name": "stderr",
          "text": [
            " 32%|███▏      | 16/50 [13:24<28:29, 50.27s/it]"
          ]
        },
        {
          "output_type": "stream",
          "name": "stdout",
          "text": [
            "Epoch 15: loss 630.0603826195002\n"
          ]
        },
        {
          "output_type": "stream",
          "name": "stderr",
          "text": [
            " 42%|████▏     | 21/50 [17:35<24:18, 50.29s/it]"
          ]
        },
        {
          "output_type": "stream",
          "name": "stdout",
          "text": [
            "Epoch 20: loss 501.1322252303362\n"
          ]
        },
        {
          "output_type": "stream",
          "name": "stderr",
          "text": [
            " 52%|█████▏    | 26/50 [21:47<20:07, 50.31s/it]"
          ]
        },
        {
          "output_type": "stream",
          "name": "stdout",
          "text": [
            "Epoch 25: loss 403.76430977880955\n"
          ]
        },
        {
          "output_type": "stream",
          "name": "stderr",
          "text": [
            " 62%|██████▏   | 31/50 [25:59<15:55, 50.31s/it]"
          ]
        },
        {
          "output_type": "stream",
          "name": "stdout",
          "text": [
            "Epoch 30: loss 326.6455256268382\n"
          ]
        },
        {
          "output_type": "stream",
          "name": "stderr",
          "text": [
            " 72%|███████▏  | 36/50 [30:10<11:43, 50.27s/it]"
          ]
        },
        {
          "output_type": "stream",
          "name": "stdout",
          "text": [
            "Epoch 35: loss 262.72930435836315\n"
          ]
        },
        {
          "output_type": "stream",
          "name": "stderr",
          "text": [
            " 82%|████████▏ | 41/50 [34:21<07:32, 50.26s/it]"
          ]
        },
        {
          "output_type": "stream",
          "name": "stdout",
          "text": [
            "Epoch 40: loss 209.008991997689\n"
          ]
        },
        {
          "output_type": "stream",
          "name": "stderr",
          "text": [
            " 92%|█████████▏| 46/50 [38:32<03:20, 50.18s/it]"
          ]
        },
        {
          "output_type": "stream",
          "name": "stdout",
          "text": [
            "Epoch 45: loss 166.3835297934711\n"
          ]
        },
        {
          "output_type": "stream",
          "name": "stderr",
          "text": [
            "100%|██████████| 50/50 [41:53<00:00, 50.26s/it]\n"
          ]
        }
      ]
    },
    {
      "cell_type": "code",
      "source": [
        "import matplotlib.pyplot as plt\n",
        "import numpy as np\n",
        "# plot\n",
        "fig, ax = plt.subplots()\n",
        "ax.plot(np.arange(50), errors, linewidth=2.0)\n",
        "plt.show()"
      ],
      "metadata": {
        "colab": {
          "base_uri": "https://localhost:8080/",
          "height": 268
        },
        "id": "4ymPGgQ3CZ2T",
        "outputId": "317552be-73aa-481c-f0b6-a729c3d77015"
      },
      "execution_count": null,
      "outputs": [
        {
          "output_type": "display_data",
          "data": {
            "image/png": "[encoded data removed]",
            "text/plain": [
              "<Figure size 432x288 with 1 Axes>"
            ]
          },
          "metadata": {
            "needs_background": "light"
          }
        }
      ]
    },
    {
      "cell_type": "code",
      "source": [
        "example_translations(net, 5)"
      ],
      "metadata": {
        "colab": {
          "base_uri": "https://localhost:8080/"
        },
        "id": "bGwM3fy9KE5O",
        "outputId": "04410842-5853-4fba-e059-2b80cd30c2e7"
      },
      "execution_count": null,
      "outputs": [
        {
          "output_type": "stream",
          "name": "stdout",
          "text": [
            "Source sentence: <bos> Ein Mann mit <unk> <unk> sein Ohr , um ein <unk> hören zu können . <eos>\n",
            "Ground truth: <bos> A man with dreadlocks is plugging his ear to hear a phone call . <eos>\n",
            "Translated sentence: <bos> A man in a blue , music a to sign a , , . him <pad> . <eos> <pad> <pad> <pad> <pad> <pad> <pad> <pad> <pad> <pad> <pad> <pad>\n",
            "\n",
            "\n",
            "Source sentence: <bos> Ein <unk> Mann schläft draußen auf seinem Stuhl . <eos>\n",
            "Ground truth: <bos> A half naked man is sleeping on his chair outdoors . <eos>\n",
            "Translated sentence: <bos> A solitary man is at man on in . <eos> <pad> <pad> <pad> <pad> <pad> <pad> <pad> <pad> <pad> <pad> <pad> <pad> <pad> <pad> <pad> <pad> <pad> <pad> <pad>\n",
            "\n",
            "\n",
            "Source sentence: <bos> Ein Mann in einem weißen T-Shirt und Khakihosen kauert auf einem umgestürzten Baumstamm . <eos>\n",
            "Ground truth: <bos> A man in a white shirt and khaki pants crouches on a fallen tree trunk . <eos>\n",
            "Translated sentence: <bos> A in with a green t - shirt is on overalls a and orange <eos> . <eos> <pad> <pad> <pad> <pad> <pad> <pad> <pad> <pad> <pad> <pad> <pad> <pad>\n",
            "\n",
            "\n",
            "Source sentence: <bos> Eine im Freien versammelte Menschenmenge sieht jemandem zu , der sich in ihrer Mitte befindet . <eos>\n",
            "Ground truth: <bos> A crowd is outside watching someone in the center of them . <eos>\n",
            "Translated sentence: <bos> A female a player from her face from the from in in the water . . <eos> <pad> <pad> <pad> <pad> <pad> <pad> <pad> <pad> <pad> <pad> <pad> <pad>\n",
            "\n",
            "\n",
            "Source sentence: <bos> Ein Mann mit <unk> geschminktem Gesicht posiert mit einer Frau für ein Foto . <eos>\n",
            "Ground truth: <bos> A man in blue and red face paint poses for a picture with a woman . <eos>\n",
            "Translated sentence: <bos> Man with with a girl in around - in shirt a man of a blue <pad> <pad> <pad> . <eos> <pad> <pad> <pad> <pad> <pad> <pad> <pad> <pad> <pad>\n",
            "\n",
            "\n"
          ]
        }
      ]
    },
    {
      "cell_type": "markdown",
      "source": [
        "# RNNs"
      ],
      "metadata": {
        "id": "_-vhZHzgJM60"
      }
    },
    {
      "cell_type": "code",
      "source": [
        "class SimpleRNN(nn.Module):\n",
        "  \n",
        "  def __init__(self, input_vocab_size: int, target_vocab_size: int, seq_len: int = 20):\n",
        "    super().__init__()\n",
        "\n",
        "    word_vec_size = 10\n",
        "\n",
        "    self.lookup = nn.Embedding(input_vocab_size, word_vec_size)\n",
        "    self.rnn = nn.RNN(word_vec_size, word_vec_size, 1, batch_first = True)\n",
        "    self.fc = nn.Linear(seq_len * word_vec_size, target_vocab_size * seq_len)\n",
        "\n",
        "  def forward(self, x):\n",
        "    batch_size, max_seq_len = x.shape\n",
        "    embedded = self.lookup(x)\n",
        "    x = self.rnn(embedded)[0].reshape(batch_size, -1)\n",
        "    x = self.fc(x).reshape((batch_size, max_seq_len, -1))\n",
        "    return F.log_softmax(x, dim=2)\n"
      ],
      "metadata": {
        "id": "KsmhidewJQXc"
      },
      "execution_count": null,
      "outputs": []
    },
    {
      "cell_type": "code",
      "source": [
        "class SimpleLSTM(nn.Module):\n",
        "  \n",
        "  def __init__(self, input_vocab_size: int, target_vocab_size: int, seq_len: int = 20):\n",
        "    super().__init__()\n",
        "\n",
        "    word_vec_size = 10\n",
        "\n",
        "    self.lookup = nn.Embedding(input_vocab_size, word_vec_size)\n",
        "    self.LSTM = nn.LSTM(word_vec_size, word_vec_size, 1, batch_first = True)\n",
        "    self.fc = nn.Linear(seq_len * word_vec_size, target_vocab_size * seq_len)\n",
        "\n",
        "  def forward(self, x):\n",
        "    batch_size, max_seq_len = x.shape\n",
        "    embedded = self.lookup(x)\n",
        "    x = self.LSTM(embedded)[0].reshape(batch_size, -1)\n",
        "    x = self.fc(x).reshape((batch_size, max_seq_len, -1))\n",
        "    return F.log_softmax(x, dim=2)"
      ],
      "metadata": {
        "id": "wxlMO6rINS6B"
      },
      "execution_count": null,
      "outputs": []
    },
    {
      "cell_type": "code",
      "source": [
        "class SimpleGRU(nn.Module):\n",
        "  \n",
        "  def __init__(self, input_vocab_size: int, target_vocab_size: int, seq_len: int = 20):\n",
        "    super().__init__()\n",
        "\n",
        "    word_vec_size = 10\n",
        "\n",
        "    self.lookup = nn.Embedding(input_vocab_size, word_vec_size)\n",
        "    self.gru = nn.GRU(word_vec_size, word_vec_size, 1, batch_first = True)\n",
        "    self.fc = nn.Linear(seq_len * word_vec_size, target_vocab_size * seq_len)\n",
        "\n",
        "  def forward(self, x):\n",
        "    batch_size, max_seq_len = x.shape\n",
        "    embedded = self.lookup(x)\n",
        "    x = self.gru(embedded)[0].reshape(batch_size, -1)\n",
        "    x = self.fc(x).reshape((batch_size, max_seq_len, -1))\n",
        "    return F.log_softmax(x, dim=2)"
      ],
      "metadata": {
        "id": "Vx5Hhtq8PWU9"
      },
      "execution_count": null,
      "outputs": []
    },
    {
      "cell_type": "code",
      "source": [
        "def valid_eval(net: nn.Module):\n",
        "  net.eval()\n",
        "  loss = torch.nn.NLLLoss()\n",
        "  total = 0\n",
        "\n",
        "  for x,y in valid_dataloader:\n",
        "\n",
        "      x, y = scale_transpose_seqs(x, y, 20)\n",
        "      out = net(x)\n",
        "\n",
        "      total += float(loss(out.swapaxes(1,2), y))\n",
        "    \n",
        "  return total\n",
        "\n",
        "\n",
        "def train(net: nn.Module, epochs: int = 20, lr: float= 3e-4):\n",
        "  net.train()\n",
        "  opt = torch.optim.Adam(net.parameters(), lr=lr)\n",
        "  loss = torch.nn.NLLLoss()\n",
        "  scheduler = ExponentialLR(opt, gamma=0.95)\n",
        "\n",
        "  ret = [[],[]]\n",
        "\n",
        "\n",
        "  for e in tqdm.tqdm(range(epochs)):\n",
        "    t = 0\n",
        "    net.train()\n",
        "    for x,y in train_dataloader:\n",
        "      net.zero_grad()\n",
        "\n",
        "      x, y = scale_transpose_seqs(x, y, 20)\n",
        "      out = net(x)\n",
        "\n",
        "      l = loss(out.swapaxes(1,2), y)\n",
        "\n",
        "      l.backward()\n",
        "      opt.step()\n",
        "\n",
        "      t += float(l)\n",
        "    scheduler.step()\n",
        "\n",
        "    ret[0].append(t)\n",
        "\n",
        "    ret[1].append(valid_eval(net))\n",
        "\n",
        "    if e % 5 == 0:\n",
        "      print(f\"Epoch {e} - loss: {t}, valid loss: {ret[1][e]}\")\n",
        "\n",
        "  return ret\n"
      ],
      "metadata": {
        "id": "kDM6mU_3MJmv"
      },
      "execution_count": null,
      "outputs": []
    },
    {
      "cell_type": "code",
      "source": [
        "in_vocab = len(vocab_transform[SRC_LANGUAGE])\n",
        "out_vocab = len(vocab_transform[TGT_LANGUAGE])"
      ],
      "metadata": {
        "id": "lLSegQN7VVmx"
      },
      "execution_count": null,
      "outputs": []
    },
    {
      "cell_type": "code",
      "source": [
        "epochs = 80\n",
        "\n",
        "net = SimpleRNN(in_vocab, out_vocab).to(device)\n",
        "train_data = train(net, epochs, lr=1e-4)"
      ],
      "metadata": {
        "colab": {
          "base_uri": "https://localhost:8080/"
        },
        "id": "BLb1LPjRM0KK",
        "outputId": "a709b991-b75d-494d-d1d0-d613bddc97c5"
      },
      "execution_count": null,
      "outputs": [
        {
          "output_type": "stream",
          "name": "stderr",
          "text": [
            "  1%|▏         | 1/80 [00:20<26:33, 20.17s/it]"
          ]
        },
        {
          "output_type": "stream",
          "name": "stdout",
          "text": [
            "Epoch 0 - loss: 4661.8976328372955, valid loss: 3854.8191908597946\n"
          ]
        },
        {
          "output_type": "stream",
          "name": "stderr",
          "text": [
            "  8%|▊         | 6/80 [01:58<24:19, 19.73s/it]"
          ]
        },
        {
          "output_type": "stream",
          "name": "stdout",
          "text": [
            "Epoch 5 - loss: 2955.0680277347565, valid loss: 3610.991071343422\n"
          ]
        },
        {
          "output_type": "stream",
          "name": "stderr",
          "text": [
            " 14%|█▍        | 11/80 [03:36<22:32, 19.60s/it]"
          ]
        },
        {
          "output_type": "stream",
          "name": "stdout",
          "text": [
            "Epoch 10 - loss: 2712.7804787158966, valid loss: 3571.879125356674\n"
          ]
        },
        {
          "output_type": "stream",
          "name": "stderr",
          "text": [
            " 20%|██        | 16/80 [05:14<20:50, 19.53s/it]"
          ]
        },
        {
          "output_type": "stream",
          "name": "stdout",
          "text": [
            "Epoch 15 - loss: 2516.983368873596, valid loss: 3569.069273531437\n"
          ]
        },
        {
          "output_type": "stream",
          "name": "stderr",
          "text": [
            " 26%|██▋       | 21/80 [06:51<19:11, 19.52s/it]"
          ]
        },
        {
          "output_type": "stream",
          "name": "stdout",
          "text": [
            "Epoch 20 - loss: 2347.814858198166, valid loss: 3567.325751066208\n"
          ]
        },
        {
          "output_type": "stream",
          "name": "stderr",
          "text": [
            " 32%|███▎      | 26/80 [08:29<17:32, 19.48s/it]"
          ]
        },
        {
          "output_type": "stream",
          "name": "stdout",
          "text": [
            "Epoch 25 - loss: 2200.844597697258, valid loss: 3569.672935664654\n"
          ]
        },
        {
          "output_type": "stream",
          "name": "stderr",
          "text": [
            " 39%|███▉      | 31/80 [10:06<15:55, 19.49s/it]"
          ]
        },
        {
          "output_type": "stream",
          "name": "stdout",
          "text": [
            "Epoch 30 - loss: 2075.2904595136642, valid loss: 3577.270637214184\n"
          ]
        },
        {
          "output_type": "stream",
          "name": "stderr",
          "text": [
            " 45%|████▌     | 36/80 [11:44<14:16, 19.48s/it]"
          ]
        },
        {
          "output_type": "stream",
          "name": "stdout",
          "text": [
            "Epoch 35 - loss: 1968.452109694481, valid loss: 3588.5591846704483\n"
          ]
        },
        {
          "output_type": "stream",
          "name": "stderr",
          "text": [
            " 51%|█████▏    | 41/80 [13:21<12:40, 19.50s/it]"
          ]
        },
        {
          "output_type": "stream",
          "name": "stdout",
          "text": [
            "Epoch 40 - loss: 1877.1158694028854, valid loss: 3602.7425268292427\n"
          ]
        },
        {
          "output_type": "stream",
          "name": "stderr",
          "text": [
            " 57%|█████▊    | 46/80 [14:59<11:02, 19.49s/it]"
          ]
        },
        {
          "output_type": "stream",
          "name": "stdout",
          "text": [
            "Epoch 45 - loss: 1798.4092552661896, valid loss: 3619.4965113401413\n"
          ]
        },
        {
          "output_type": "stream",
          "name": "stderr",
          "text": [
            " 64%|██████▍   | 51/80 [16:36<09:25, 19.50s/it]"
          ]
        },
        {
          "output_type": "stream",
          "name": "stdout",
          "text": [
            "Epoch 50 - loss: 1730.3070110082626, valid loss: 3638.4403369426727\n"
          ]
        },
        {
          "output_type": "stream",
          "name": "stderr",
          "text": [
            " 70%|███████   | 56/80 [18:14<07:49, 19.55s/it]"
          ]
        },
        {
          "output_type": "stream",
          "name": "stdout",
          "text": [
            "Epoch 55 - loss: 1670.9909026622772, valid loss: 3658.988529086113\n"
          ]
        },
        {
          "output_type": "stream",
          "name": "stderr",
          "text": [
            " 76%|███████▋  | 61/80 [19:51<06:10, 19.50s/it]"
          ]
        },
        {
          "output_type": "stream",
          "name": "stdout",
          "text": [
            "Epoch 60 - loss: 1618.9496392011642, valid loss: 3680.7163896262646\n"
          ]
        },
        {
          "output_type": "stream",
          "name": "stderr",
          "text": [
            " 82%|████████▎ | 66/80 [21:29<04:32, 19.49s/it]"
          ]
        },
        {
          "output_type": "stream",
          "name": "stdout",
          "text": [
            "Epoch 65 - loss: 1572.9516566991806, valid loss: 3703.360098838806\n"
          ]
        },
        {
          "output_type": "stream",
          "name": "stderr",
          "text": [
            " 89%|████████▉ | 71/80 [23:06<02:55, 19.46s/it]"
          ]
        },
        {
          "output_type": "stream",
          "name": "stdout",
          "text": [
            "Epoch 70 - loss: 1532.0015263557434, valid loss: 3726.7149617373943\n"
          ]
        },
        {
          "output_type": "stream",
          "name": "stderr",
          "text": [
            " 95%|█████████▌| 76/80 [24:43<01:17, 19.48s/it]"
          ]
        },
        {
          "output_type": "stream",
          "name": "stdout",
          "text": [
            "Epoch 75 - loss: 1495.2993504405022, valid loss: 3750.6488991975784\n"
          ]
        },
        {
          "output_type": "stream",
          "name": "stderr",
          "text": [
            "100%|██████████| 80/80 [26:01<00:00, 19.52s/it]\n"
          ]
        }
      ]
    },
    {
      "cell_type": "code",
      "source": [
        "import matplotlib.pyplot as plt\n",
        "import numpy as np\n",
        "# plot\n",
        "fig, ax = plt.subplots()\n",
        "ax.plot(np.arange(epochs), train_data[0], linewidth=2.0)\n",
        "ax.plot(np.arange(epochs), train_data[1], linewidth=2.0)\n",
        "plt.show()\n"
      ],
      "metadata": {
        "id": "fjdv4UF1Wfgw",
        "colab": {
          "base_uri": "https://localhost:8080/",
          "height": 265
        },
        "outputId": "ffdf9ab8-6bba-4cc6-f877-eb7fd760534a"
      },
      "execution_count": null,
      "outputs": [
        {
          "output_type": "display_data",
          "data": {
            "image/png": "[encoded data removed]",
            "text/plain": [
              "<Figure size 432x288 with 1 Axes>"
            ]
          },
          "metadata": {
            "needs_background": "light"
          }
        }
      ]
    },
    {
      "cell_type": "code",
      "source": [
        "example_translations(net, 5)"
      ],
      "metadata": {
        "colab": {
          "base_uri": "https://localhost:8080/"
        },
        "id": "YMoVOtjEJl7O",
        "outputId": "0a9e28fc-d088-4bc4-959a-c33e3477d6ae"
      },
      "execution_count": null,
      "outputs": [
        {
          "output_type": "stream",
          "name": "stdout",
          "text": [
            "Source sentence: <bos> Ein Mann in einem roten Kapuzenpullover und einer weißen Schürze steht vor einem Wandgemälde . <eos>\n",
            "Ground truth: <bos> A man in a red hoodie with a white apron stands in front of a mural . <eos>\n",
            "Translated sentence: <bos> A man in a red shirt and a jeans a a a a a <eos> . <pad> <pad> <pad>\n",
            "\n",
            "\n",
            "Source sentence: <bos> Drei Männer gehen auf einer Straße in den Bergen . <eos>\n",
            "Ground truth: <bos> Three men are walking on a road in the mountains . <eos>\n",
            "Translated sentence: <bos> Three men are walking a street street the street . <eos> <pad> <pad> <pad> <pad> <pad> <pad> <pad> <pad>\n",
            "\n",
            "\n",
            "Source sentence: <bos> Vier Frauen haben sich mit lustigen Kostümen verkleidet . <eos>\n",
            "Ground truth: <bos> Four women dressed up in funny costumes . <eos>\n",
            "Translated sentence: <bos> Four women are near with a a . . <eos> <pad> <pad> <pad> <pad> <pad> <pad> <pad> <pad> <pad>\n",
            "\n",
            "\n",
            "Source sentence: <bos> Eine Frau konzentriert sich auf ihr <unk> . <eos>\n",
            "Ground truth: <bos> A woman is <unk> on her game of curling . <eos>\n",
            "Translated sentence: <bos> A woman is in a a a . . <eos> <pad> <pad> <pad> <pad> <pad> <pad> <pad> <pad> <pad>\n",
            "\n",
            "\n",
            "Source sentence: <bos> Ein Schwimmer schwimmt in einem Swimmingpool . <eos>\n",
            "Ground truth: <bos> An swimmer swimming in a swimming pool . <eos>\n",
            "Translated sentence: <bos> A couple is in a a a . <eos> <pad> <pad> <pad> <pad> <pad> <pad> <pad> <pad> <pad> <pad>\n",
            "\n",
            "\n"
          ]
        }
      ]
    },
    {
      "cell_type": "code",
      "source": [
        "epochs = 80\n",
        "\n",
        "lstm_net = SimpleLSTM(in_vocab, out_vocab).to(device)\n",
        "train_data = train(lstm_net, epochs, lr=3e-4)"
      ],
      "metadata": {
        "colab": {
          "base_uri": "https://localhost:8080/"
        },
        "id": "J5yYkALoQndG",
        "outputId": "bca8113c-547c-4544-8da9-0ae3c3fff481"
      },
      "execution_count": null,
      "outputs": [
        {
          "output_type": "stream",
          "name": "stderr",
          "text": [
            "  1%|▏         | 1/80 [00:19<26:00, 19.76s/it]"
          ]
        },
        {
          "output_type": "stream",
          "name": "stdout",
          "text": [
            "Epoch 0 - loss: 4020.6581320762634, valid loss: 3732.0395060777664\n"
          ]
        },
        {
          "output_type": "stream",
          "name": "stderr",
          "text": [
            "  8%|▊         | 6/80 [01:58<24:20, 19.74s/it]"
          ]
        },
        {
          "output_type": "stream",
          "name": "stdout",
          "text": [
            "Epoch 5 - loss: 2729.494853258133, valid loss: 3525.2702201008797\n"
          ]
        },
        {
          "output_type": "stream",
          "name": "stderr",
          "text": [
            " 14%|█▍        | 11/80 [03:37<22:45, 19.79s/it]"
          ]
        },
        {
          "output_type": "stream",
          "name": "stdout",
          "text": [
            "Epoch 10 - loss: 2372.0431818962097, valid loss: 3526.538954138756\n"
          ]
        },
        {
          "output_type": "stream",
          "name": "stderr",
          "text": [
            " 20%|██        | 16/80 [05:16<21:05, 19.78s/it]"
          ]
        },
        {
          "output_type": "stream",
          "name": "stdout",
          "text": [
            "Epoch 15 - loss: 2170.7551621198654, valid loss: 3534.009102165699\n"
          ]
        },
        {
          "output_type": "stream",
          "name": "stderr",
          "text": [
            " 26%|██▋       | 21/80 [06:55<19:27, 19.79s/it]"
          ]
        },
        {
          "output_type": "stream",
          "name": "stdout",
          "text": [
            "Epoch 20 - loss: 2045.3694424629211, valid loss: 3539.7033920288086\n"
          ]
        },
        {
          "output_type": "stream",
          "name": "stderr",
          "text": [
            " 32%|███▎      | 26/80 [08:34<17:47, 19.77s/it]"
          ]
        },
        {
          "output_type": "stream",
          "name": "stdout",
          "text": [
            "Epoch 25 - loss: 1961.9253494739532, valid loss: 3545.9161723852158\n"
          ]
        },
        {
          "output_type": "stream",
          "name": "stderr",
          "text": [
            " 39%|███▉      | 31/80 [10:12<16:04, 19.69s/it]"
          ]
        },
        {
          "output_type": "stream",
          "name": "stdout",
          "text": [
            "Epoch 30 - loss: 1903.8085376024246, valid loss: 3552.3231130838394\n"
          ]
        },
        {
          "output_type": "stream",
          "name": "stderr",
          "text": [
            " 45%|████▌     | 36/80 [11:50<14:24, 19.65s/it]"
          ]
        },
        {
          "output_type": "stream",
          "name": "stdout",
          "text": [
            "Epoch 35 - loss: 1862.1271376609802, valid loss: 3557.9817864894867\n"
          ]
        },
        {
          "output_type": "stream",
          "name": "stderr",
          "text": [
            " 51%|█████▏    | 41/80 [13:29<12:47, 19.69s/it]"
          ]
        },
        {
          "output_type": "stream",
          "name": "stdout",
          "text": [
            "Epoch 40 - loss: 1831.6314188241959, valid loss: 3562.621408700943\n"
          ]
        },
        {
          "output_type": "stream",
          "name": "stderr",
          "text": [
            " 57%|█████▊    | 46/80 [15:07<11:09, 19.70s/it]"
          ]
        },
        {
          "output_type": "stream",
          "name": "stdout",
          "text": [
            "Epoch 45 - loss: 1808.9948484897614, valid loss: 3566.437480390072\n"
          ]
        },
        {
          "output_type": "stream",
          "name": "stderr",
          "text": [
            " 64%|██████▍   | 51/80 [16:46<09:30, 19.67s/it]"
          ]
        },
        {
          "output_type": "stream",
          "name": "stdout",
          "text": [
            "Epoch 50 - loss: 1792.0102190971375, valid loss: 3569.5672820210457\n"
          ]
        },
        {
          "output_type": "stream",
          "name": "stderr",
          "text": [
            " 70%|███████   | 56/80 [18:24<07:52, 19.67s/it]"
          ]
        },
        {
          "output_type": "stream",
          "name": "stdout",
          "text": [
            "Epoch 55 - loss: 1779.1640578508377, valid loss: 3572.1066384911537\n"
          ]
        },
        {
          "output_type": "stream",
          "name": "stderr",
          "text": [
            " 76%|███████▋  | 61/80 [20:02<06:13, 19.66s/it]"
          ]
        },
        {
          "output_type": "stream",
          "name": "stdout",
          "text": [
            "Epoch 60 - loss: 1769.390922665596, valid loss: 3574.146080315113\n"
          ]
        },
        {
          "output_type": "stream",
          "name": "stderr",
          "text": [
            " 82%|████████▎ | 66/80 [21:40<04:34, 19.63s/it]"
          ]
        },
        {
          "output_type": "stream",
          "name": "stdout",
          "text": [
            "Epoch 65 - loss: 1761.9240429401398, valid loss: 3575.772286295891\n"
          ]
        },
        {
          "output_type": "stream",
          "name": "stderr",
          "text": [
            " 89%|████████▉ | 71/80 [23:18<02:56, 19.64s/it]"
          ]
        },
        {
          "output_type": "stream",
          "name": "stdout",
          "text": [
            "Epoch 70 - loss: 1756.2012264728546, valid loss: 3577.064542710781\n"
          ]
        },
        {
          "output_type": "stream",
          "name": "stderr",
          "text": [
            " 95%|█████████▌| 76/80 [24:57<01:18, 19.63s/it]"
          ]
        },
        {
          "output_type": "stream",
          "name": "stdout",
          "text": [
            "Epoch 75 - loss: 1751.8050158023834, valid loss: 3578.0858237743378\n"
          ]
        },
        {
          "output_type": "stream",
          "name": "stderr",
          "text": [
            "100%|██████████| 80/80 [26:15<00:00, 19.69s/it]\n"
          ]
        }
      ]
    },
    {
      "cell_type": "code",
      "source": [
        "import matplotlib.pyplot as plt\n",
        "import numpy as np\n",
        "# plot\n",
        "fig, ax = plt.subplots()\n",
        "ax.plot(np.arange(epochs), train_data[0], linewidth=2.0)\n",
        "ax.plot(np.arange(epochs), train_data[1], linewidth=2.0)\n",
        "plt.show()\n"
      ],
      "metadata": {
        "colab": {
          "base_uri": "https://localhost:8080/",
          "height": 265
        },
        "id": "GwLZmKZAU4TO",
        "outputId": "47167fe0-8d91-4487-e8b8-632063140faf"
      },
      "execution_count": null,
      "outputs": [
        {
          "output_type": "display_data",
          "data": {
            "image/png": "[encoded data removed]",
            "text/plain": [
              "<Figure size 432x288 with 1 Axes>"
            ]
          },
          "metadata": {
            "needs_background": "light"
          }
        }
      ]
    },
    {
      "cell_type": "code",
      "source": [
        "example_translations(lstm_net, 5)"
      ],
      "metadata": {
        "colab": {
          "base_uri": "https://localhost:8080/"
        },
        "id": "dVeeCbTeU7uO",
        "outputId": "083d4efd-f682-4d33-c070-54114f0bb507"
      },
      "execution_count": null,
      "outputs": [
        {
          "output_type": "stream",
          "name": "stdout",
          "text": [
            "Source sentence: <bos> Ein kleines Kind spielt unter einem Rasensprenger . <eos>\n",
            "Ground truth: <bos> A young child is playing in a water sprinkler . <eos>\n",
            "Translated sentence: <bos> A young child is playing a a . . . <pad> <pad> <pad> <pad> <pad> <pad> <pad> <pad> <pad>\n",
            "\n",
            "\n",
            "Source sentence: <bos> Eine Person trägt viele Taschen . <eos>\n",
            "Ground truth: <bos> A person is carrying many bags . <eos>\n",
            "Translated sentence: <bos> A person is a in a . . <eos> <pad> <pad> <pad> <pad> <pad> <pad> <pad> <pad> <pad> <pad>\n",
            "\n",
            "\n",
            "Source sentence: <bos> Eine <unk> Dame mit einer blauen Tasche fährt auf einem Roller . <eos>\n",
            "Ground truth: <bos> A white blond lady wearing a blue bag riding a scooter . <eos>\n",
            "Translated sentence: <bos> A woman lady with a blue shirt is a a a . . <eos> <pad> <pad> <pad> <pad> <pad>\n",
            "\n",
            "\n",
            "Source sentence: <bos> Ein stehender Mann hält ein Mikrofon vor einem Mann mit einer Gitarre . <eos>\n",
            "Ground truth: <bos> A standing man holds a microphone in front of a man holding a guitar . <eos>\n",
            "Translated sentence: <bos> A man man a a a a a a a a a . <eos> <pad> <pad> <pad> <pad> <pad>\n",
            "\n",
            "\n",
            "Source sentence: <bos> Eine Gruppe von <unk> geht mit amerikanischen Flaggen und anderen <unk> die Straße entlang . <eos>\n",
            "Ground truth: <bos> A group of <unk> walking down the road with american flags and other military flags . <eos>\n",
            "Translated sentence: <bos> A group of people , with a and outfits down , and and . <pad> <pad> <pad> <pad> <pad>\n",
            "\n",
            "\n"
          ]
        }
      ]
    },
    {
      "cell_type": "code",
      "source": [
        "epochs = 40\n",
        "\n",
        "gru_net = SimpleGRU(in_vocab, out_vocab).to(device)\n",
        "train_data = train(gru_net, epochs, lr=3e-4)\n",
        "\n",
        "import matplotlib.pyplot as plt\n",
        "import numpy as np\n",
        "# plot\n",
        "fig, ax = plt.subplots()\n",
        "ax.plot(np.arange(epochs), train_data[0], linewidth=2.0)\n",
        "ax.plot(np.arange(epochs), train_data[1], linewidth=2.0)\n",
        "plt.show()"
      ],
      "metadata": {
        "colab": {
          "base_uri": "https://localhost:8080/"
        },
        "id": "6iod8TuudISG",
        "outputId": "49c556a4-db64-4217-99ff-9c1c6e6bdc61"
      },
      "execution_count": null,
      "outputs": [
        {
          "output_type": "stream",
          "name": "stderr",
          "text": [
            "  2%|▎         | 1/40 [00:19<12:53, 19.83s/it]"
          ]
        },
        {
          "output_type": "stream",
          "name": "stdout",
          "text": [
            "Epoch 0 - loss: 3899.3319289684296, valid loss: 3694.753669857979\n"
          ]
        },
        {
          "output_type": "stream",
          "name": "stderr",
          "text": [
            " 15%|█▌        | 6/40 [01:58<11:11, 19.74s/it]"
          ]
        },
        {
          "output_type": "stream",
          "name": "stdout",
          "text": [
            "Epoch 5 - loss: 2604.708069086075, valid loss: 3501.918863236904\n"
          ]
        },
        {
          "output_type": "stream",
          "name": "stderr",
          "text": [
            " 28%|██▊       | 11/40 [03:37<09:35, 19.83s/it]"
          ]
        },
        {
          "output_type": "stream",
          "name": "stdout",
          "text": [
            "Epoch 10 - loss: 2227.8103506565094, valid loss: 3531.4803797006607\n"
          ]
        },
        {
          "output_type": "stream",
          "name": "stderr",
          "text": [
            " 40%|████      | 16/40 [05:16<07:53, 19.71s/it]"
          ]
        },
        {
          "output_type": "stream",
          "name": "stdout",
          "text": [
            "Epoch 15 - loss: 2011.6092076301575, valid loss: 3559.2357252836227\n"
          ]
        },
        {
          "output_type": "stream",
          "name": "stderr",
          "text": [
            " 52%|█████▎    | 21/40 [06:54<06:14, 19.72s/it]"
          ]
        },
        {
          "output_type": "stream",
          "name": "stdout",
          "text": [
            "Epoch 20 - loss: 1880.4954221248627, valid loss: 3577.104872107506\n"
          ]
        },
        {
          "output_type": "stream",
          "name": "stderr",
          "text": [
            " 65%|██████▌   | 26/40 [08:33<04:36, 19.73s/it]"
          ]
        },
        {
          "output_type": "stream",
          "name": "stdout",
          "text": [
            "Epoch 25 - loss: 1795.2420711517334, valid loss: 3594.519650876522\n"
          ]
        },
        {
          "output_type": "stream",
          "name": "stderr",
          "text": [
            " 78%|███████▊  | 31/40 [10:11<02:57, 19.73s/it]"
          ]
        },
        {
          "output_type": "stream",
          "name": "stdout",
          "text": [
            "Epoch 30 - loss: 1737.2040234804153, valid loss: 3610.1438831686974\n"
          ]
        },
        {
          "output_type": "stream",
          "name": "stderr",
          "text": [
            " 90%|█████████ | 36/40 [11:52<01:19, 19.89s/it]"
          ]
        },
        {
          "output_type": "stream",
          "name": "stdout",
          "text": [
            "Epoch 35 - loss: 1696.3671085834503, valid loss: 3622.8947525024414\n"
          ]
        },
        {
          "output_type": "stream",
          "name": "stderr",
          "text": [
            "100%|██████████| 40/40 [13:11<00:00, 19.78s/it]\n"
          ]
        },
        {
          "output_type": "display_data",
          "data": {
            "image/png": "[encoded data removed]",
            "text/plain": [
              "<Figure size 432x288 with 1 Axes>"
            ]
          },
          "metadata": {
            "needs_background": "light"
          }
        }
      ]
    },
    {
      "cell_type": "code",
      "source": [
        "example_translations(gru_net, 5)"
      ],
      "metadata": {
        "colab": {
          "base_uri": "https://localhost:8080/"
        },
        "id": "pyD5kd_6gfRs",
        "outputId": "5b9f2098-d21d-4b65-c88c-cf30e3c0e4d0"
      },
      "execution_count": null,
      "outputs": [
        {
          "output_type": "stream",
          "name": "stdout",
          "text": [
            "Source sentence: <bos> Ein Mann trägt ein Kind auf seinen Schultern , während um ihn herum Menschen gehen . <eos>\n",
            "Ground truth: <bos> A man holds a child on his shoulders as a people walk around him . <eos>\n",
            "Translated sentence: <bos> A man is a a soccer a a , while , the . <eos> . <pad> <pad> <pad> <pad>\n",
            "\n",
            "\n",
            "Source sentence: <bos> Zwei Männer bauen eine blaue <unk> auf einem <unk> See auf <eos>\n",
            "Ground truth: <bos> Two men setting up a blue ice fishing hut on an iced over lake <eos>\n",
            "Translated sentence: <bos> Two men are in a a a a a a . <eos> <eos> <pad> <pad> <pad> <pad> <pad> <pad>\n",
            "\n",
            "\n",
            "Source sentence: <bos> Blick in eine Straße , die von großen , sauberen Gebäuden gesäumt wird . <eos>\n",
            "Ground truth: <bos> A view of a street lined with large , clean buildings . <eos>\n",
            "Translated sentence: <bos> The woman of of a the the street the the . . <pad> <pad> <pad> <pad> <pad> <pad> <pad>\n",
            "\n",
            "\n",
            "Source sentence: <bos> Eine blonde Frau mit braunem Cowboyhut macht eine obszöne Geste in Richtung der Kamera . <eos>\n",
            "Ground truth: <bos> A blond women in a brown cowboy hat makes an obscene gesture toward the camera . <eos>\n",
            "Translated sentence: <bos> A blond woman with brown and and is a a a a of a . <eos> <pad> <pad> <pad>\n",
            "\n",
            "\n",
            "Source sentence: <bos> Eine Frau mit einem roten Kleid und rotem Haar steht vor einem leuchtend bunten Haus . <eos>\n",
            "Ground truth: <bos> A woman in a red dress with red - hair standing before a bright , multicolored home . <eos>\n",
            "Translated sentence: <bos> A woman with a red shirt and and pants is standing front a a . <eos> <pad> <pad> <pad>\n",
            "\n",
            "\n"
          ]
        }
      ]
    },
    {
      "cell_type": "code",
      "source": [
        "epochs = 10\n",
        "\n",
        "gru_net = SimpleGRU(in_vocab, out_vocab).to(device)\n",
        "train_data = train(gru_net, epochs, lr=3e-4)\n",
        "\n",
        "import matplotlib.pyplot as plt\n",
        "import numpy as np\n",
        "# plot\n",
        "fig, ax = plt.subplots()\n",
        "ax.plot(np.arange(epochs), train_data[0], linewidth=2.0)\n",
        "ax.plot(np.arange(epochs), train_data[1], linewidth=2.0)\n",
        "plt.show()"
      ],
      "metadata": {
        "colab": {
          "base_uri": "https://localhost:8080/",
          "height": 321
        },
        "id": "-kzfoZeQlH42",
        "outputId": "bae1ab97-7e93-49dc-e360-3b6619ce4227"
      },
      "execution_count": 79,
      "outputs": [
        {
          "output_type": "stream",
          "name": "stderr",
          "text": [
            " 10%|█         | 1/10 [00:19<02:57, 19.74s/it]"
          ]
        },
        {
          "output_type": "stream",
          "name": "stdout",
          "text": [
            "Epoch 0 - loss: 3921.875874042511, valid loss: 3688.1374564170837\n"
          ]
        },
        {
          "output_type": "stream",
          "name": "stderr",
          "text": [
            " 60%|██████    | 6/10 [01:58<01:19, 19.82s/it]"
          ]
        },
        {
          "output_type": "stream",
          "name": "stdout",
          "text": [
            "Epoch 5 - loss: 2538.739069223404, valid loss: 3484.9941712617874\n"
          ]
        },
        {
          "output_type": "stream",
          "name": "stderr",
          "text": [
            "100%|██████████| 10/10 [03:18<00:00, 19.81s/it]\n"
          ]
        },
        {
          "output_type": "display_data",
          "data": {
            "image/png": "[encoded data removed]",
            "text/plain": [
              "<Figure size 432x288 with 1 Axes>"
            ]
          },
          "metadata": {
            "needs_background": "light"
          }
        }
      ]
    },
    {
      "cell_type": "code",
      "source": [
        "example_translations(gru_net, 5)"
      ],
      "metadata": {
        "colab": {
          "base_uri": "https://localhost:8080/"
        },
        "id": "QypHegv2lLGf",
        "outputId": "48e53ecb-d07d-4c27-e940-4c4eaf1c0fa0"
      },
      "execution_count": 80,
      "outputs": [
        {
          "output_type": "stream",
          "name": "stdout",
          "text": [
            "Source sentence: <bos> Eine Frau mit blauem Hut und gelbem Rock springt an einer mit <unk> bewachsenen Stelle in die Luft . <eos>\n",
            "Ground truth: <bos> A woman in a blue hat and yellow skirt is jumping in an area with <unk> . <eos>\n",
            "Translated sentence: <bos> A woman with a red and and a a a a a in a her a . <pad> <pad>\n",
            "\n",
            "\n",
            "Source sentence: <bos> Mann beobachtet eine Frau , die auf dem Gehweg raucht . <eos>\n",
            "Ground truth: <bos> Man looking at a woman that is smoking on the sidewalk . <eos>\n",
            "Translated sentence: <bos> Man black walking walking woman on on on a . . <eos> <pad> <pad> <pad> <pad> <pad> <pad> <pad>\n",
            "\n",
            "\n",
            "Source sentence: <bos> Ein Sohn und seine Eltern nehmen ein Gruppenfoto in einer Kirche auf . <eos>\n",
            "Ground truth: <bos> A son and his parents are taking a group picture in a church . <eos>\n",
            "Translated sentence: <bos> A young and is a a a a a a a . . . <pad> <pad> <pad> <pad> <pad>\n",
            "\n",
            "\n",
            "Source sentence: <bos> Ein Mann mit schwarzer Jacke und schwarzer Mütze spielt auf einer Trompete . <eos>\n",
            "Ground truth: <bos> One man in a black jacket and black hat is playing a trumpet . <eos>\n",
            "Translated sentence: <bos> A man with a black and and a is a . . <pad> <pad> <pad> <pad> <pad> <pad> <pad>\n",
            "\n",
            "\n",
            "Source sentence: <bos> Ein Mann in einer blauen Jacke wird auf seinem Schlitten von zwei Hunden gezogen . <eos>\n",
            "Ground truth: <bos> A man in a blue coat is <unk> on his sled by two dogs . <eos>\n",
            "Translated sentence: <bos> A man in a blue jacket is a a a a a a . . <pad> <pad> <pad> <pad>\n",
            "\n",
            "\n"
          ]
        }
      ]
    }
  ]
}